{
 "cells": [
  {
   "cell_type": "markdown",
   "metadata": {},
   "source": [
    "# Assignment week 12 "
   ]
  },
  {
   "cell_type": "markdown",
   "metadata": {},
   "source": [
    "For this week, instead of giving you a full assignment to complete, we are giving you somewhat polished code for you to play with and reuse. \n",
    "    \n",
    "We recommend you take this code in your free time and try to understand it. Change things, break things, see what happens. This code could also be repurposed for other projects you might be working on. \n",
    "\n",
    "This week we will be using the librarys from class (os, NumPy, pandas, matplotlib), logfiles.tgz, and states_covid.csv"
   ]
  },
  {
   "cell_type": "markdown",
   "metadata": {},
   "source": [
    "# task"
   ]
  },
  {
   "cell_type": "markdown",
   "metadata": {},
   "source": [
    "From week 10, using the logfiles, we are going to:\n",
    "\n",
    "read in each file\n",
    "\n",
    "create a dictionary with min, max, and mean temp for each file\n",
    "\n",
    "convert dict to a DataFrame using pandas\n",
    "\n",
    "summarize variables and plot "
   ]
  },
  {
   "cell_type": "code",
   "execution_count": 1,
   "metadata": {},
   "outputs": [],
   "source": [
    "import os,sys,re\n",
    "import numpy as np\n",
    "import pandas as pd"
   ]
  },
  {
   "cell_type": "code",
   "execution_count": 2,
   "metadata": {},
   "outputs": [],
   "source": [
    "week12_dir = '/home/faske/g/BIOL792/week12'\n",
    "log_dir = os.path.join(week12_dir,'logfiles')\n",
    "assert os.path.exists(log_dir), 'log_dir does not exist'"
   ]
  },
  {
   "cell_type": "code",
   "execution_count": 3,
   "metadata": {},
   "outputs": [
    {
     "name": "stdout",
     "output_type": "stream",
     "text": [
      "/working/tfaske/BIOL792/week12/logfiles\n"
     ]
    }
   ],
   "source": [
    "os.chdir(log_dir) \n",
    "print(os.getcwd())"
   ]
  },
  {
   "cell_type": "code",
   "execution_count": 123,
   "metadata": {},
   "outputs": [
    {
     "name": "stdout",
     "output_type": "stream",
     "text": [
      "75\n",
      "\n"
     ]
    }
   ],
   "source": [
    "# the number of files in the log files is 75, make sure you have that many as well\n",
    "num_logfiles = os.popen('ls -l *txt | wc -l ').read()\n",
    "print(num_logfiles)\n",
    "\n",
    "assert int(num_logfiles) == 75, 'wrong number of logfiles'"
   ]
  },
  {
   "cell_type": "markdown",
   "metadata": {},
   "source": [
    "# Gather all the file names with paths in logfiles directory"
   ]
  },
  {
   "cell_type": "code",
   "execution_count": 129,
   "metadata": {},
   "outputs": [],
   "source": [
    "logfiles = []\n",
    "files = os.popen(\"find . -name '*txt'\").read().split('\\n') #this function causes a weird character ending. Removes it\n",
    "files = files[:75] \n",
    "files = [os.path.abspath(x) for x in files] #this finds the full path to the file\n",
    "for x in files:\n",
    "    logfiles.append(x)\n",
    "logfiles = sorted(logfiles)"
   ]
  },
  {
   "cell_type": "code",
   "execution_count": 130,
   "metadata": {},
   "outputs": [
    {
     "data": {
      "text/plain": [
       "(75,\n",
       " ['/working/tfaske/BIOL792/week12/logfiles/1901302108_H7_D_13.txt.txt',\n",
       "  '/working/tfaske/BIOL792/week12/logfiles/1901302108_H7_D_14.txt.txt',\n",
       "  '/working/tfaske/BIOL792/week12/logfiles/1901302109_H7_S_13.txt.txt',\n",
       "  '/working/tfaske/BIOL792/week12/logfiles/1901302109_H7_S_14.txt.txt',\n",
       "  '/working/tfaske/BIOL792/week12/logfiles/1901302110_H13_S_13.txt.txt'])"
      ]
     },
     "execution_count": 130,
     "metadata": {},
     "output_type": "execute_result"
    }
   ],
   "source": [
    "len(logfiles),logfiles[:5]"
   ]
  },
  {
   "cell_type": "markdown",
   "metadata": {},
   "source": [
    "# Getting a little tricky here\n",
    "\n",
    "Read in each file in logfiles, extract min max and mean temp for each file, and append to dictionary\n",
    "\n",
    "First lets make it work for one file"
   ]
  },
  {
   "cell_type": "code",
   "execution_count": 131,
   "metadata": {},
   "outputs": [
    {
     "data": {
      "text/html": [
       "<div>\n",
       "<style scoped>\n",
       "    .dataframe tbody tr th:only-of-type {\n",
       "        vertical-align: middle;\n",
       "    }\n",
       "\n",
       "    .dataframe tbody tr th {\n",
       "        vertical-align: top;\n",
       "    }\n",
       "\n",
       "    .dataframe thead th {\n",
       "        text-align: right;\n",
       "    }\n",
       "</style>\n",
       "<table border=\"1\" class=\"dataframe\">\n",
       "  <thead>\n",
       "    <tr style=\"text-align: right;\">\n",
       "      <th></th>\n",
       "      <th>Date</th>\n",
       "      <th>Time</th>\n",
       "      <th>Temp</th>\n",
       "    </tr>\n",
       "  </thead>\n",
       "  <tbody>\n",
       "    <tr>\n",
       "      <th>0</th>\n",
       "      <td>2012-10-07</td>\n",
       "      <td>8:00:00 AM</td>\n",
       "      <td>41.4</td>\n",
       "    </tr>\n",
       "    <tr>\n",
       "      <th>1</th>\n",
       "      <td>2012-10-07</td>\n",
       "      <td>8:35:00 AM</td>\n",
       "      <td>41.4</td>\n",
       "    </tr>\n",
       "    <tr>\n",
       "      <th>2</th>\n",
       "      <td>2012-10-07</td>\n",
       "      <td>9:10:00 AM</td>\n",
       "      <td>41.4</td>\n",
       "    </tr>\n",
       "    <tr>\n",
       "      <th>3</th>\n",
       "      <td>2012-10-07</td>\n",
       "      <td>9:45:00 AM</td>\n",
       "      <td>41.4</td>\n",
       "    </tr>\n",
       "    <tr>\n",
       "      <th>4</th>\n",
       "      <td>2012-10-07</td>\n",
       "      <td>10:20:00 AM</td>\n",
       "      <td>41.6</td>\n",
       "    </tr>\n",
       "  </tbody>\n",
       "</table>\n",
       "</div>"
      ],
      "text/plain": [
       "        Date         Time  Temp\n",
       "0 2012-10-07   8:00:00 AM  41.4\n",
       "1 2012-10-07   8:35:00 AM  41.4\n",
       "2 2012-10-07   9:10:00 AM  41.4\n",
       "3 2012-10-07   9:45:00 AM  41.4\n",
       "4 2012-10-07  10:20:00 AM  41.6"
      ]
     },
     "execution_count": 131,
     "metadata": {},
     "output_type": "execute_result"
    }
   ],
   "source": [
    "### set up data frame as you read in each file\n",
    "infile = pd.read_csv(logfiles[0],sep='\\t',encoding='utf-8', engine='python',parse_dates=['Date'])\n",
    "infile.columns = ['Index','Date','Time','Temp','Type']\n",
    "infile = infile[['Date','Time','Temp']]\n",
    "infile.head()"
   ]
  },
  {
   "cell_type": "code",
   "execution_count": 134,
   "metadata": {},
   "outputs": [
    {
     "name": "stdout",
     "output_type": "stream",
     "text": [
      "27.8\n",
      "60.9\n",
      "36.73806372381797\n"
     ]
    }
   ],
   "source": [
    "#get min, max, and mean\n",
    "print(infile.Temp.min())\n",
    "print(infile.Temp.max())\n",
    "print(infile.Temp.mean())"
   ]
  },
  {
   "cell_type": "code",
   "execution_count": 133,
   "metadata": {},
   "outputs": [
    {
     "data": {
      "text/plain": [
       "'1901302108_H7_D_13'"
      ]
     },
     "execution_count": 133,
     "metadata": {},
     "output_type": "execute_result"
    }
   ],
   "source": [
    "#extract file name\n",
    "file_name = logfiles[0].split('/')[6]\n",
    "file_name = file_name.split('.')[0]\n",
    "file_name"
   ]
  },
  {
   "cell_type": "markdown",
   "metadata": {},
   "source": [
    "# Now lets get it working for all the files "
   ]
  },
  {
   "cell_type": "code",
   "execution_count": 102,
   "metadata": {},
   "outputs": [
    {
     "name": "stdout",
     "output_type": "stream",
     "text": [
      "parsing......  1901302108_H7_D_13\n",
      "parsing......  1901302108_H7_D_14\n",
      "parsing......  1901302109_H7_S_13\n",
      "parsing......  1901302109_H7_S_14\n",
      "parsing......  1901302110_H13_S_13\n",
      "parsing......  1901302110_H13_S_14\n",
      "parsing......  1901302115_H1_S_13\n",
      "parsing......  1901302115_H1_S_14\n",
      "parsing......  1901302117_H15_S_13\n",
      "parsing......  1901302117_H15_S_14\n",
      "parsing......  1901302118_H1_D_13\n",
      "parsing......  1901302118_H1_D_14\n",
      "parsing......  1901302119_H4_S_13\n",
      "parsing......  1901302119_H4_S_14\n",
      "parsing......  1901302120_H5_D_13\n",
      "parsing......  1901302120_H5_D_14\n",
      "parsing......  1901302121_H8_S_13\n",
      "parsing......  1901302121_H8_S_14\n",
      "parsing......  1901302122_H3_D_13\n",
      "parsing......  1901302122_H3_D_14\n",
      "parsing......  1901302134_H13_D_13\n",
      "parsing......  1901302134_H13_D_14\n",
      "parsing......  1901302136_H15_D_13\n",
      "parsing......  1901302136_H15_D_14\n",
      "parsing......  1901302137_H18_S_13\n",
      "parsing......  1901302137_H18_S_14\n",
      "parsing......  1901302138_H11_D_13\n",
      "parsing......  1901302138_H11_D_14\n",
      "parsing......  1901302141_H19_S_13\n",
      "parsing......  1901302141_H19_S_14\n",
      "parsing......  1901302146_H14_D_13\n",
      "parsing......  1901302146_H14_D_14\n",
      "parsing......  1901302150_H14_S_13\n",
      "parsing......  1901302150_H14_S_14\n",
      "parsing......  1901302157_H12_S_13\n",
      "parsing......  1901302157_H12_S_14\n",
      "parsing......  1901302158_H9_S_13\n",
      "parsing......  1901302158_H9_S_14\n",
      "parsing......  1901302194_H10_S_13\n",
      "parsing......  1901302194_H10_S_14\n",
      "parsing......  1901302202_H16_S_13\n",
      "parsing......  1901302202_H16_S_14\n",
      "parsing......  1901302203_H7_S_13\n",
      "parsing......  1901302203_H7_S_14\n",
      "parsing......  1901302212_H9_D_13\n",
      "parsing......  1901302212_H9_D_14\n",
      "parsing......  1901302214_H19_D_13\n",
      "parsing......  1901302214_H19_D_14\n",
      "parsing......  1901302217_H18_D_13\n",
      "parsing......  1901302217_H18_D_14\n",
      "parsing......  1901302221_H6_D_13\n",
      "parsing......  1901302222_H2_S_13\n",
      "parsing......  1901302222_H2_S_14\n",
      "parsing......  1901302223_H16_S_13\n",
      "parsing......  1901302223_H16_S_14\n",
      "parsing......  1901302224_H3_S_13\n",
      "parsing......  1901302224_H3_S_14\n",
      "parsing......  1901302225_H12_D_13\n",
      "parsing......  1901302225_H12_D_14\n",
      "parsing......  1901302227_H11_S_13\n",
      "parsing......  1901302227_H11_S_14\n",
      "parsing......  1901302228_H4_D_13\n",
      "parsing......  1901302228_H4_D_14\n",
      "parsing......  1901302235_H6_S_13\n",
      "parsing......  1901302235_H6_S_14\n",
      "parsing......  1901302236_H17_D_13\n",
      "parsing......  1901302236_H17_D_14\n",
      "parsing......  1901302237_H10_D_13\n",
      "parsing......  1901302237_H10_D_14\n",
      "parsing......  1901302240_H8_D_13\n",
      "parsing......  1901302240_H8_D_14\n",
      "parsing......  1901302241_H2_D_13\n",
      "parsing......  1901302241_H2_D_14\n",
      "parsing......  1901302243_H5_S_13\n",
      "parsing......  1901302243_H5_S_14\n"
     ]
    }
   ],
   "source": [
    "temp_dict = {}\n",
    "for file in logfiles:\n",
    "    file_name = file.split('/')[6]\n",
    "    file_name = file_name.split('.')[0]\n",
    "    print('parsing...... ',file_name)\n",
    "    \n",
    "    #below has to be done because there is mixed encoded of the files. This is an uncommon issue. \n",
    "    #Don't worry too much about it\n",
    "    with open(file, encoding='utf8', errors = 'backslashreplace') as my_csv:\n",
    "        infile = pd.read_csv(my_csv,sep='\\t')\n",
    "        \n",
    "        infile.columns = ['Index','Date','Time','Temp','Type']\n",
    "        infile = infile[['Date','Time','Temp']]\n",
    "    \n",
    "        minTemp = infile.Temp.min()\n",
    "        maxTemp = infile.Temp.max()\n",
    "        meanTemp = infile.Temp.mean()\n",
    "\n",
    "        temp_dict[file_name] = [minTemp,maxTemp,meanTemp]"
   ]
  },
  {
   "cell_type": "code",
   "execution_count": 122,
   "metadata": {},
   "outputs": [
    {
     "data": {
      "text/plain": [
       "[('1901302108_H7_D_13', [27.8, 60.9, 36.73806372381797]),\n",
       " ('1901302108_H7_D_14', [24.9, 52.2, 32.70657710194139]),\n",
       " ('1901302109_H7_S_13', [nan, nan, nan]),\n",
       " ('1901302109_H7_S_14', [20.8, 89.4, 36.524380044020546]),\n",
       " ('1901302110_H13_S_13', [nan, nan, nan])]"
      ]
     },
     "execution_count": 122,
     "metadata": {},
     "output_type": "execute_result"
    }
   ],
   "source": [
    "list(temp_dict.items())[:5] #print first 5 items of dict"
   ]
  },
  {
   "cell_type": "code",
   "execution_count": 103,
   "metadata": {},
   "outputs": [
    {
     "data": {
      "text/plain": [
       "75"
      ]
     },
     "execution_count": 103,
     "metadata": {},
     "output_type": "execute_result"
    }
   ],
   "source": [
    "len(temp_dict)"
   ]
  },
  {
   "cell_type": "markdown",
   "metadata": {},
   "source": [
    "# dict to dataframe"
   ]
  },
  {
   "cell_type": "code",
   "execution_count": 104,
   "metadata": {},
   "outputs": [
    {
     "data": {
      "text/html": [
       "<div>\n",
       "<style scoped>\n",
       "    .dataframe tbody tr th:only-of-type {\n",
       "        vertical-align: middle;\n",
       "    }\n",
       "\n",
       "    .dataframe tbody tr th {\n",
       "        vertical-align: top;\n",
       "    }\n",
       "\n",
       "    .dataframe thead th {\n",
       "        text-align: right;\n",
       "    }\n",
       "</style>\n",
       "<table border=\"1\" class=\"dataframe\">\n",
       "  <thead>\n",
       "    <tr style=\"text-align: right;\">\n",
       "      <th></th>\n",
       "      <th>minTemp</th>\n",
       "      <th>maxTemp</th>\n",
       "      <th>meanTemp</th>\n",
       "    </tr>\n",
       "  </thead>\n",
       "  <tbody>\n",
       "    <tr>\n",
       "      <th>1901302108_H7_D_13</th>\n",
       "      <td>27.8</td>\n",
       "      <td>60.9</td>\n",
       "      <td>36.738064</td>\n",
       "    </tr>\n",
       "    <tr>\n",
       "      <th>1901302108_H7_D_14</th>\n",
       "      <td>24.9</td>\n",
       "      <td>52.2</td>\n",
       "      <td>32.706577</td>\n",
       "    </tr>\n",
       "    <tr>\n",
       "      <th>1901302109_H7_S_13</th>\n",
       "      <td>NaN</td>\n",
       "      <td>NaN</td>\n",
       "      <td>NaN</td>\n",
       "    </tr>\n",
       "    <tr>\n",
       "      <th>1901302109_H7_S_14</th>\n",
       "      <td>20.8</td>\n",
       "      <td>89.4</td>\n",
       "      <td>36.524380</td>\n",
       "    </tr>\n",
       "    <tr>\n",
       "      <th>1901302110_H13_S_13</th>\n",
       "      <td>NaN</td>\n",
       "      <td>NaN</td>\n",
       "      <td>NaN</td>\n",
       "    </tr>\n",
       "  </tbody>\n",
       "</table>\n",
       "</div>"
      ],
      "text/plain": [
       "                     minTemp  maxTemp   meanTemp\n",
       "1901302108_H7_D_13      27.8     60.9  36.738064\n",
       "1901302108_H7_D_14      24.9     52.2  32.706577\n",
       "1901302109_H7_S_13       NaN      NaN        NaN\n",
       "1901302109_H7_S_14      20.8     89.4  36.524380\n",
       "1901302110_H13_S_13      NaN      NaN        NaN"
      ]
     },
     "execution_count": 104,
     "metadata": {},
     "output_type": "execute_result"
    }
   ],
   "source": [
    "temp_df = pd.DataFrame.from_dict(temp_dict,orient='index',columns=['minTemp','maxTemp','meanTemp'])\n",
    "temp_df.head()"
   ]
  },
  {
   "cell_type": "code",
   "execution_count": 110,
   "metadata": {},
   "outputs": [],
   "source": [
    "temp_out = os.path.join(week12_dir,'temp_df.csv')\n",
    "temp_df.to_csv(path_or_buf=temp_out)"
   ]
  },
  {
   "cell_type": "markdown",
   "metadata": {},
   "source": [
    "# Plot"
   ]
  },
  {
   "cell_type": "code",
   "execution_count": 106,
   "metadata": {},
   "outputs": [],
   "source": [
    "import matplotlib.pyplot as plt"
   ]
  },
  {
   "cell_type": "code",
   "execution_count": 107,
   "metadata": {},
   "outputs": [],
   "source": [
    "# Make the graphs a bit prettier, and bigger\n",
    "plt.style.use('seaborn-whitegrid')\n",
    "plt.rcParams['figure.figsize'] = (15, 5)"
   ]
  },
  {
   "cell_type": "code",
   "execution_count": 109,
   "metadata": {},
   "outputs": [
    {
     "data": {
      "text/plain": [
       "<matplotlib.axes._subplots.AxesSubplot at 0x7f0d16f71da0>"
      ]
     },
     "execution_count": 109,
     "metadata": {},
     "output_type": "execute_result"
    },
    {
     "data": {
      "image/png": "[encoded data removed]",
      "text/plain": [
       "<Figure size 1080x360 with 1 Axes>"
      ]
     },
     "metadata": {},
     "output_type": "display_data"
    }
   ],
   "source": [
    "temp_df.boxplot()"
   ]
  },
  {
   "cell_type": "markdown",
   "metadata": {},
   "source": [
    "# Lets make a nicer figure in R through python"
   ]
  },
  {
   "cell_type": "code",
   "execution_count": 136,
   "metadata": {},
   "outputs": [],
   "source": [
    "import rpy2"
   ]
  },
  {
   "cell_type": "code",
   "execution_count": 139,
   "metadata": {},
   "outputs": [],
   "source": [
    "%load_ext rpy2.ipython"
   ]
  },
  {
   "cell_type": "code",
   "execution_count": 145,
   "metadata": {},
   "outputs": [],
   "source": [
    "%%R\n",
    "library(tidyverse)\n",
    "library(ggforce)\n",
    "temp_df <- read.csv('/home/faske/g/BIOL792/week12/temp_df.csv')"
   ]
  },
  {
   "cell_type": "code",
   "execution_count": 158,
   "metadata": {},
   "outputs": [
    {
     "data": {
      "text/plain": [
       "                     X minTemp maxTemp meanTemp\n",
       "1   1901302108_H7_D_13    27.8    60.9 36.73806\n",
       "2   1901302108_H7_D_14    24.9    52.2 32.70658\n",
       "4   1901302109_H7_S_14    20.8    89.4 36.52438\n",
       "6  1901302110_H13_S_14    22.8    60.9 32.24003\n",
       "8   1901302115_H1_S_14    23.2    79.8 36.58339\n",
       "10 1901302117_H15_S_14    23.7    67.5 34.97413\n"
      ]
     },
     "metadata": {},
     "output_type": "display_data"
    }
   ],
   "source": [
    "%%R\n",
    "head(na.omit(temp_df))"
   ]
  },
  {
   "cell_type": "code",
   "execution_count": 164,
   "metadata": {},
   "outputs": [
    {
     "data": {
      "text/plain": [
       "                    X    stat temp stat2\n",
       "1  1901302108_H7_D_13 minTemp 27.8     3\n",
       "2  1901302108_H7_D_14 minTemp 24.9     3\n",
       "3  1901302109_H7_S_14 minTemp 20.8     3\n",
       "4 1901302110_H13_S_14 minTemp 22.8     3\n",
       "5  1901302115_H1_S_14 minTemp 23.2     3\n",
       "6 1901302117_H15_S_14 minTemp 23.7     3\n"
      ]
     },
     "metadata": {},
     "output_type": "display_data"
    }
   ],
   "source": [
    "%%R\n",
    "temp_long_df <- gather(na.omit(temp_df),'stat','temp',-X)\n",
    "temp_long_df$stat2 <- as.numeric(as.factor(temp_long_df$stat))\n",
    "head(temp_long_df)"
   ]
  },
  {
   "cell_type": "code",
   "execution_count": 173,
   "metadata": {},
   "outputs": [
    {
     "data": {
      "image/png": "[encoded data removed]"
     },
     "metadata": {},
     "output_type": "display_data"
    }
   ],
   "source": [
    "%%R\n",
    "options(repr.plot.width = 7, repr.plot.height = 5)\n",
    "\n",
    "ggplot(temp_long_df,aes(x=stat,y=temp,fill=stat)) +\n",
    "  geom_sina(maxwidth = 0.5, na.rm = T, size = 4,pch=21,colour='black') +\n",
    "  stat_summary(fun.data = mean_cl_boot, geom = \"errorbar\", width = 5,size=3,color='black',position = position_dodge(width = 0.5)) +\n",
    "  stat_summary(aes(fill=factor(stat2,levels=c('3','2','1'))),fun.y = mean, geom = \"point\", size = 7,color='black',pch=22,position = position_dodge(width = 0.5)) +\n",
    "  scale_fill_manual(values=c('white','white','white','#83B9B9','#F7D28A','grey70')) +\n",
    "  theme_bw() + xlab(\"Summary Stat\") + ylab(\"Temperature\") + \n",
    "  theme(axis.text = element_text(size=16), \n",
    "        axis.title = element_text(size = 20, colour=\"black\",face = \"bold\"),\n",
    "        panel.border = element_rect(size = 1.5, colour = \"black\"),\n",
    "        legend.text = element_text(size = 11),\n",
    "        legend.position = 'none',\n",
    "        strip.background = element_blank(),\n",
    "        panel.grid = element_blank())"
   ]
  },
  {
   "cell_type": "code",
   "execution_count": null,
   "metadata": {},
   "outputs": [],
   "source": []
  }
 ],
 "metadata": {
  "kernelspec": {
   "display_name": "Python 3",
   "language": "python",
   "name": "python3"
  },
  "language_info": {
   "codemirror_mode": {
    "name": "ipython",
    "version": 3
   },
   "file_extension": ".py",
   "mimetype": "text/x-python",
   "name": "python",
   "nbconvert_exporter": "python",
   "pygments_lexer": "ipython3",
   "version": "3.6.7"
  }
 },
 "nbformat": 4,
 "nbformat_minor": 2
}
